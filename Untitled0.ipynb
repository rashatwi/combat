{
  "nbformat": 4,
  "nbformat_minor": 0,
  "metadata": {
    "colab": {
      "provenance": [],
      "authorship_tag": "ABX9TyN0C0myFINqUx/O2imyN2op",
      "include_colab_link": true
    },
    "kernelspec": {
      "name": "python3",
      "display_name": "Python 3"
    }
  },
  "cells": [
    {
      "cell_type": "markdown",
      "metadata": {
        "id": "view-in-github",
        "colab_type": "text"
      },
      "source": [
        "<a href=\"https://colab.research.google.com/github/rashatwi/combat/blob/main/Untitled0.ipynb\" target=\"_parent\"><img src=\"https://colab.research.google.com/assets/colab-badge.svg\" alt=\"Open In Colab\"/></a>"
      ]
    },
    {
      "cell_type": "code",
      "source": [
        "!pip install rdkit-pypi -qqq"
      ],
      "metadata": {
        "colab": {
          "base_uri": "https://localhost:8080/"
        },
        "id": "qJiQ0MgJXtT7",
        "outputId": "67814f66-b8f5-4cd4-fb63-7497efe36911"
      },
      "execution_count": null,
      "outputs": [
        {
          "output_type": "stream",
          "name": "stdout",
          "text": [
            "\u001b[33mWARNING: Running pip as the 'root' user can result in broken permissions and conflicting behaviour with the system package manager. It is recommended to use a virtual environment instead: https://pip.pypa.io/warnings/venv\u001b[0m\u001b[33m\n",
            "\u001b[0m"
          ]
        }
      ]
    },
    {
      "cell_type": "code",
      "source": [
        "from rdkit import Chem"
      ],
      "metadata": {
        "colab": {
          "base_uri": "https://localhost:8080/",
          "height": 300
        },
        "id": "1yldkGMVYb3R",
        "outputId": "80406129-5e6b-4fab-8385-248135a35fca"
      },
      "execution_count": null,
      "outputs": [
        {
          "output_type": "error",
          "ename": "ModuleNotFoundError",
          "evalue": "ignored",
          "traceback": [
            "\u001b[0;31m---------------------------------------------------------------------------\u001b[0m",
            "\u001b[0;31mModuleNotFoundError\u001b[0m                       Traceback (most recent call last)",
            "\u001b[0;32m<ipython-input-5-3a181df69616>\u001b[0m in \u001b[0;36m<module>\u001b[0;34m\u001b[0m\n\u001b[0;32m----> 1\u001b[0;31m \u001b[0;32mfrom\u001b[0m \u001b[0mrdkit\u001b[0m \u001b[0;32mimport\u001b[0m \u001b[0mChem\u001b[0m\u001b[0;34m\u001b[0m\u001b[0;34m\u001b[0m\u001b[0m\n\u001b[0m",
            "\u001b[0;31mModuleNotFoundError\u001b[0m: No module named 'rdkit'",
            "",
            "\u001b[0;31m---------------------------------------------------------------------------\u001b[0;32m\nNOTE: If your import is failing due to a missing package, you can\nmanually install dependencies using either !pip or !apt.\n\nTo view examples of installing some common dependencies, click the\n\"Open Examples\" button below.\n\u001b[0;31m---------------------------------------------------------------------------\u001b[0m\n"
          ],
          "errorDetails": {
            "actions": [
              {
                "action": "open_url",
                "actionText": "Open Examples",
                "url": "/notebooks/snippets/importing_libraries.ipynb"
              }
            ]
          }
        }
      ]
    },
    {
      "cell_type": "code",
      "source": [
        "!python3 -m pip install molplotly"
      ],
      "metadata": {
        "colab": {
          "base_uri": "https://localhost:8080/"
        },
        "id": "NRRdaZ4UGpzu",
        "outputId": "145fb975-df0a-4a92-d215-2f5347ad5441"
      },
      "execution_count": null,
      "outputs": [
        {
          "output_type": "stream",
          "name": "stdout",
          "text": [
            "Looking in indexes: https://pypi.org/simple, https://us-python.pkg.dev/colab-wheels/public/simple/\n",
            "Requirement already satisfied: molplotly in /usr/local/lib/python3.7/site-packages (1.1.4)\n",
            "Requirement already satisfied: ipykernel in /usr/local/lib/python3.7/site-packages (from molplotly) (6.16.0)\n",
            "Requirement already satisfied: dash>=2.0.0 in /usr/local/lib/python3.7/site-packages (from molplotly) (2.6.2)\n",
            "Requirement already satisfied: nbformat in /usr/local/lib/python3.7/site-packages (from molplotly) (5.7.0)\n",
            "Requirement already satisfied: jupyter-dash>=0.4.2 in /usr/local/lib/python3.7/site-packages (from molplotly) (0.4.2)\n",
            "Requirement already satisfied: werkzeug>=2.0.0 in /usr/local/lib/python3.7/site-packages (from molplotly) (2.2.2)\n",
            "Requirement already satisfied: plotly>=5.0.0 in /usr/local/lib/python3.7/site-packages (from molplotly) (5.10.0)\n",
            "Requirement already satisfied: pandas in /usr/local/lib/python3.7/site-packages (from molplotly) (1.3.5)\n",
            "Requirement already satisfied: dash-table==5.0.0 in /usr/local/lib/python3.7/site-packages (from dash>=2.0.0->molplotly) (5.0.0)\n",
            "Requirement already satisfied: flask-compress in /usr/local/lib/python3.7/site-packages (from dash>=2.0.0->molplotly) (1.13)\n",
            "Requirement already satisfied: Flask>=1.0.4 in /usr/local/lib/python3.7/site-packages (from dash>=2.0.0->molplotly) (2.2.2)\n",
            "Requirement already satisfied: dash-html-components==2.0.0 in /usr/local/lib/python3.7/site-packages (from dash>=2.0.0->molplotly) (2.0.0)\n",
            "Requirement already satisfied: dash-core-components==2.0.0 in /usr/local/lib/python3.7/site-packages (from dash>=2.0.0->molplotly) (2.0.0)\n",
            "Requirement already satisfied: ansi2html in /usr/local/lib/python3.7/site-packages (from jupyter-dash>=0.4.2->molplotly) (1.8.0)\n",
            "Requirement already satisfied: nest-asyncio in /usr/local/lib/python3.7/site-packages (from jupyter-dash>=0.4.2->molplotly) (1.5.6)\n",
            "Requirement already satisfied: retrying in /usr/local/lib/python3.7/site-packages (from jupyter-dash>=0.4.2->molplotly) (1.3.3)\n",
            "Requirement already satisfied: ipython in /usr/local/lib/python3.7/site-packages (from jupyter-dash>=0.4.2->molplotly) (7.34.0)\n",
            "Requirement already satisfied: requests in /usr/local/lib/python3.7/site-packages (from jupyter-dash>=0.4.2->molplotly) (2.28.1)\n",
            "Requirement already satisfied: tenacity>=6.2.0 in /usr/local/lib/python3.7/site-packages (from plotly>=5.0.0->molplotly) (8.1.0)\n",
            "Requirement already satisfied: MarkupSafe>=2.1.1 in /usr/local/lib/python3.7/site-packages (from werkzeug>=2.0.0->molplotly) (2.1.1)\n",
            "Requirement already satisfied: packaging in /usr/local/lib/python3.7/site-packages (from ipykernel->molplotly) (21.3)\n",
            "Requirement already satisfied: traitlets>=5.1.0 in /usr/local/lib/python3.7/site-packages (from ipykernel->molplotly) (5.4.0)\n",
            "Requirement already satisfied: pyzmq>=17 in /usr/local/lib/python3.7/site-packages (from ipykernel->molplotly) (24.0.1)\n",
            "Requirement already satisfied: debugpy>=1.0 in /usr/local/lib/python3.7/site-packages (from ipykernel->molplotly) (1.6.3)\n",
            "Requirement already satisfied: psutil in /usr/local/lib/python3.7/site-packages (from ipykernel->molplotly) (5.9.2)\n",
            "Requirement already satisfied: jupyter-client>=6.1.12 in /usr/local/lib/python3.7/site-packages (from ipykernel->molplotly) (7.4.2)\n",
            "Requirement already satisfied: tornado>=6.1 in /usr/local/lib/python3.7/site-packages (from ipykernel->molplotly) (6.2)\n",
            "Requirement already satisfied: matplotlib-inline>=0.1 in /usr/local/lib/python3.7/site-packages (from ipykernel->molplotly) (0.1.6)\n",
            "Requirement already satisfied: fastjsonschema in /usr/local/lib/python3.7/site-packages (from nbformat->molplotly) (2.16.2)\n",
            "Requirement already satisfied: jsonschema>=2.6 in /usr/local/lib/python3.7/site-packages (from nbformat->molplotly) (4.16.0)\n",
            "Requirement already satisfied: jupyter-core in /usr/local/lib/python3.7/site-packages (from nbformat->molplotly) (4.11.1)\n",
            "Requirement already satisfied: importlib-metadata>=3.6 in /usr/local/lib/python3.7/site-packages (from nbformat->molplotly) (5.0.0)\n",
            "Requirement already satisfied: python-dateutil>=2.7.3 in /usr/local/lib/python3.7/site-packages (from pandas->molplotly) (2.8.2)\n",
            "Requirement already satisfied: numpy>=1.17.3 in /usr/local/lib/python3.7/site-packages (from pandas->molplotly) (1.21.6)\n",
            "Requirement already satisfied: pytz>=2017.3 in /usr/local/lib/python3.7/site-packages (from pandas->molplotly) (2022.4)\n",
            "Requirement already satisfied: click>=8.0 in /usr/local/lib/python3.7/site-packages (from Flask>=1.0.4->dash>=2.0.0->molplotly) (8.1.3)\n",
            "Requirement already satisfied: Jinja2>=3.0 in /usr/local/lib/python3.7/site-packages (from Flask>=1.0.4->dash>=2.0.0->molplotly) (3.1.2)\n",
            "Requirement already satisfied: itsdangerous>=2.0 in /usr/local/lib/python3.7/site-packages (from Flask>=1.0.4->dash>=2.0.0->molplotly) (2.1.2)\n",
            "Requirement already satisfied: typing-extensions>=3.6.4 in /usr/local/lib/python3.7/site-packages (from importlib-metadata>=3.6->nbformat->molplotly) (4.4.0)\n",
            "Requirement already satisfied: zipp>=0.5 in /usr/local/lib/python3.7/site-packages (from importlib-metadata>=3.6->nbformat->molplotly) (3.9.0)\n",
            "Requirement already satisfied: prompt-toolkit!=3.0.0,!=3.0.1,<3.1.0,>=2.0.0 in /usr/local/lib/python3.7/site-packages (from ipython->jupyter-dash>=0.4.2->molplotly) (3.0.31)\n",
            "Requirement already satisfied: decorator in /usr/local/lib/python3.7/site-packages (from ipython->jupyter-dash>=0.4.2->molplotly) (5.1.1)\n",
            "Requirement already satisfied: pickleshare in /usr/local/lib/python3.7/site-packages (from ipython->jupyter-dash>=0.4.2->molplotly) (0.7.5)\n",
            "Requirement already satisfied: setuptools>=18.5 in /usr/local/lib/python3.7/site-packages (from ipython->jupyter-dash>=0.4.2->molplotly) (65.4.1)\n",
            "Requirement already satisfied: pygments in /usr/local/lib/python3.7/site-packages (from ipython->jupyter-dash>=0.4.2->molplotly) (2.13.0)\n",
            "Requirement already satisfied: pexpect>4.3 in /usr/local/lib/python3.7/site-packages (from ipython->jupyter-dash>=0.4.2->molplotly) (4.8.0)\n",
            "Requirement already satisfied: backcall in /usr/local/lib/python3.7/site-packages (from ipython->jupyter-dash>=0.4.2->molplotly) (0.2.0)\n",
            "Requirement already satisfied: jedi>=0.16 in /usr/local/lib/python3.7/site-packages (from ipython->jupyter-dash>=0.4.2->molplotly) (0.18.1)\n",
            "Requirement already satisfied: pkgutil-resolve-name>=1.3.10 in /usr/local/lib/python3.7/site-packages (from jsonschema>=2.6->nbformat->molplotly) (1.3.10)\n",
            "Requirement already satisfied: importlib-resources>=1.4.0 in /usr/local/lib/python3.7/site-packages (from jsonschema>=2.6->nbformat->molplotly) (5.10.0)\n",
            "Requirement already satisfied: attrs>=17.4.0 in /usr/local/lib/python3.7/site-packages (from jsonschema>=2.6->nbformat->molplotly) (22.1.0)\n",
            "Requirement already satisfied: pyrsistent!=0.17.0,!=0.17.1,!=0.17.2,>=0.14.0 in /usr/local/lib/python3.7/site-packages (from jsonschema>=2.6->nbformat->molplotly) (0.18.1)\n",
            "Requirement already satisfied: entrypoints in /usr/local/lib/python3.7/site-packages (from jupyter-client>=6.1.12->ipykernel->molplotly) (0.4)\n",
            "Requirement already satisfied: six>=1.5 in /usr/local/lib/python3.7/site-packages (from python-dateutil>=2.7.3->pandas->molplotly) (1.16.0)\n",
            "Requirement already satisfied: brotli in /usr/local/lib/python3.7/site-packages (from flask-compress->dash>=2.0.0->molplotly) (1.0.9)\n",
            "Requirement already satisfied: pyparsing!=3.0.5,>=2.0.2 in /usr/local/lib/python3.7/site-packages (from packaging->ipykernel->molplotly) (3.0.9)\n",
            "Requirement already satisfied: charset-normalizer<3,>=2 in /usr/local/lib/python3.7/site-packages (from requests->jupyter-dash>=0.4.2->molplotly) (2.1.1)\n",
            "Requirement already satisfied: urllib3<1.27,>=1.21.1 in /usr/local/lib/python3.7/site-packages (from requests->jupyter-dash>=0.4.2->molplotly) (1.26.12)\n",
            "Requirement already satisfied: idna<4,>=2.5 in /usr/local/lib/python3.7/site-packages (from requests->jupyter-dash>=0.4.2->molplotly) (3.4)\n",
            "Requirement already satisfied: certifi>=2017.4.17 in /usr/local/lib/python3.7/site-packages (from requests->jupyter-dash>=0.4.2->molplotly) (2022.9.24)\n",
            "Requirement already satisfied: parso<0.9.0,>=0.8.0 in /usr/local/lib/python3.7/site-packages (from jedi>=0.16->ipython->jupyter-dash>=0.4.2->molplotly) (0.8.3)\n",
            "Requirement already satisfied: ptyprocess>=0.5 in /usr/local/lib/python3.7/site-packages (from pexpect>4.3->ipython->jupyter-dash>=0.4.2->molplotly) (0.7.0)\n",
            "Requirement already satisfied: wcwidth in /usr/local/lib/python3.7/site-packages (from prompt-toolkit!=3.0.0,!=3.0.1,<3.1.0,>=2.0.0->ipython->jupyter-dash>=0.4.2->molplotly) (0.2.5)\n",
            "\u001b[33mWARNING: Running pip as the 'root' user can result in broken permissions and conflicting behaviour with the system package manager. It is recommended to use a virtual environment instead: https://pip.pypa.io/warnings/venv\u001b[0m\u001b[33m\n",
            "\u001b[0m"
          ]
        }
      ]
    },
    {
      "cell_type": "code",
      "source": [
        "import molplotly"
      ],
      "metadata": {
        "colab": {
          "base_uri": "https://localhost:8080/",
          "height": 443
        },
        "id": "W1se2aTDYTeF",
        "outputId": "0e9c7fd5-bba9-4aec-b87a-0cedb9bdd74f"
      },
      "execution_count": null,
      "outputs": [
        {
          "output_type": "error",
          "ename": "ModuleNotFoundError",
          "evalue": "ignored",
          "traceback": [
            "\u001b[0;31m---------------------------------------------------------------------------\u001b[0m",
            "\u001b[0;31mModuleNotFoundError\u001b[0m                       Traceback (most recent call last)",
            "\u001b[0;32m<ipython-input-4-2c9e4ba45733>\u001b[0m in \u001b[0;36m<module>\u001b[0;34m\u001b[0m\n\u001b[0;32m----> 1\u001b[0;31m \u001b[0;32mimport\u001b[0m \u001b[0mmolplotly\u001b[0m\u001b[0;34m\u001b[0m\u001b[0;34m\u001b[0m\u001b[0m\n\u001b[0m",
            "\u001b[0;32m/usr/local/lib/python3.7/dist-packages/molplotly/__init__.py\u001b[0m in \u001b[0;36m<module>\u001b[0;34m\u001b[0m\n\u001b[0;32m----> 1\u001b[0;31m \u001b[0;32mfrom\u001b[0m \u001b[0;34m.\u001b[0m\u001b[0mmain\u001b[0m \u001b[0;32mimport\u001b[0m \u001b[0;34m*\u001b[0m\u001b[0;34m\u001b[0m\u001b[0;34m\u001b[0m\u001b[0m\n\u001b[0m",
            "\u001b[0;32m/usr/local/lib/python3.7/dist-packages/molplotly/main.py\u001b[0m in \u001b[0;36m<module>\u001b[0;34m\u001b[0m\n\u001b[1;32m     11\u001b[0m \u001b[0;32mfrom\u001b[0m \u001b[0mpandas\u001b[0m\u001b[0;34m.\u001b[0m\u001b[0mcore\u001b[0m\u001b[0;34m.\u001b[0m\u001b[0mgroupby\u001b[0m \u001b[0;32mimport\u001b[0m \u001b[0mDataFrameGroupBy\u001b[0m\u001b[0;34m\u001b[0m\u001b[0;34m\u001b[0m\u001b[0m\n\u001b[1;32m     12\u001b[0m \u001b[0;32mfrom\u001b[0m \u001b[0mplotly\u001b[0m\u001b[0;34m.\u001b[0m\u001b[0mgraph_objects\u001b[0m \u001b[0;32mimport\u001b[0m \u001b[0mFigure\u001b[0m\u001b[0;34m\u001b[0m\u001b[0;34m\u001b[0m\u001b[0m\n\u001b[0;32m---> 13\u001b[0;31m \u001b[0;32mfrom\u001b[0m \u001b[0mrdkit\u001b[0m \u001b[0;32mimport\u001b[0m \u001b[0mChem\u001b[0m\u001b[0;34m\u001b[0m\u001b[0;34m\u001b[0m\u001b[0m\n\u001b[0m\u001b[1;32m     14\u001b[0m \u001b[0;32mfrom\u001b[0m \u001b[0mrdkit\u001b[0m\u001b[0;34m.\u001b[0m\u001b[0mChem\u001b[0m\u001b[0;34m.\u001b[0m\u001b[0mDraw\u001b[0m \u001b[0;32mimport\u001b[0m \u001b[0mrdMolDraw2D\u001b[0m\u001b[0;34m\u001b[0m\u001b[0;34m\u001b[0m\u001b[0m\n\u001b[1;32m     15\u001b[0m \u001b[0;34m\u001b[0m\u001b[0m\n",
            "\u001b[0;31mModuleNotFoundError\u001b[0m: No module named 'rdkit'",
            "",
            "\u001b[0;31m---------------------------------------------------------------------------\u001b[0;32m\nNOTE: If your import is failing due to a missing package, you can\nmanually install dependencies using either !pip or !apt.\n\nTo view examples of installing some common dependencies, click the\n\"Open Examples\" button below.\n\u001b[0;31m---------------------------------------------------------------------------\u001b[0m\n"
          ],
          "errorDetails": {
            "actions": [
              {
                "action": "open_url",
                "actionText": "Open Examples",
                "url": "/notebooks/snippets/importing_libraries.ipynb"
              }
            ]
          }
        }
      ]
    },
    {
      "cell_type": "markdown",
      "metadata": {
        "id": "1sIGkVjre7Ph"
      },
      "source": [
        "## ***`[New Section](https://)`***"
      ]
    }
  ]
}